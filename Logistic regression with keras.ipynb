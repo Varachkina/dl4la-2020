{
 "cells": [
  {
   "cell_type": "markdown",
   "metadata": {},
   "source": [
    "# Logistic regression with keras\n",
    "\n",
    "For warming up, let's look at a very simple example on how to do logistic regression with keras.\n"
   ]
  },
  {
   "cell_type": "code",
   "execution_count": 1,
   "metadata": {},
   "outputs": [],
   "source": [
    "import random\n",
    "import numpy as np\n",
    "from tensorflow.keras import models, layers, optimizers"
   ]
  },
  {
   "cell_type": "markdown",
   "metadata": {},
   "source": [
    "We will generate some random training data. The data set consists of 200 integer numbers, some of them below zero, some above. To use logistic regression, we create a binary classification task by assigning the numbers below zero to one class, the numbers above to the other. This is a very easy task, because we can already formulate a rule for classification."
   ]
  },
  {
   "cell_type": "code",
   "execution_count": 2,
   "metadata": {},
   "outputs": [],
   "source": [
    "x_train = np.array(random.choices(range(-10,0), k=100) + random.choices(range(0,10), k=100))\n",
    "y_train = np.array([1 for i in range(100)] + [0 for i in range(100)])"
   ]
  },
  {
   "cell_type": "markdown",
   "metadata": {},
   "source": [
    "The next step is optional. To enable it, replace 'False' by 'True'. The idea behind this step is to pollute the data set a little bit by adding 10 random numbers with random assignments to the data. After this, it is no longer always true, that numbers below 0 are in one class and above in the other. But the vast majority is still of this form, so the model should pick up the general trend."
   ]
  },
  {
   "cell_type": "code",
   "execution_count": 3,
   "metadata": {},
   "outputs": [],
   "source": [
    "if True:\n",
    "    x_train = np.append(x_train, random.choices(range(-10,10), k=10))\n",
    "    y_train = np.append(y_train, random.choices([0,1], k=10))"
   ]
  },
  {
   "cell_type": "code",
   "execution_count": 4,
   "metadata": {
    "scrolled": true
   },
   "outputs": [
    {
     "data": {
      "text/plain": [
       "array([-10,  -2, -10,  -7,  -3,  -7,  -2,  -8,  -6,  -6,  -9,  -3,  -3,\n",
       "        -4,  -1,  -9,  -4,  -7,  -6, -10, -10,  -2,  -6,  -4,  -5,  -7,\n",
       "        -7,  -6,  -5, -10,  -5,  -4,  -5,  -9,  -5,  -5,  -7,  -4,  -2,\n",
       "       -10,  -7,  -7, -10,  -9,  -1,  -5,  -3,  -4,  -2,  -9,  -8,  -9,\n",
       "        -9,  -9,  -8,  -2,  -2,  -4,  -1, -10,  -5,  -8,  -7,  -1,  -7,\n",
       "        -8,  -7,  -5,  -8,  -8,  -3,  -4,  -3,  -4,  -4,  -9,  -4,  -7,\n",
       "        -7,  -7,  -2,  -2,  -1,  -8,  -9,  -9,  -8,  -9,  -9, -10,  -6,\n",
       "        -3,  -6,  -7,  -6,  -4, -10,  -2,  -1,  -4,   3,   8,   4,   6,\n",
       "         3,   3,   8,   8,   4,   6,   2,   6,   6,   0,   6,   0,   7,\n",
       "         6,   2,   7,   9,   1,   4,   1,   5,   6,   5,   3,   1,   8,\n",
       "         2,   7,   4,   4,   1,   9,   3,   3,   6,   3,   6,   9,   6,\n",
       "         2,   1,   8,   5,   4,   4,   5,   6,   5,   0,   1,   4,   7,\n",
       "         2,   9,   3,   4,   8,   4,   3,   1,   2,   0,   4,   0,   3,\n",
       "         6,   4,   2,   9,   5,   1,   1,   9,   2,   9,   9,   3,   6,\n",
       "         8,   3,   2,   3,   4,   9,   8,   0,   7,   6,   5,   8,   4,\n",
       "         4,   9,   3,   2,   0,  -8,  -7,  -3,   9, -10,  -9,  -8,   5,\n",
       "         7,   8])"
      ]
     },
     "execution_count": 4,
     "metadata": {},
     "output_type": "execute_result"
    }
   ],
   "source": [
    "x_train"
   ]
  },
  {
   "cell_type": "code",
   "execution_count": 5,
   "metadata": {},
   "outputs": [],
   "source": [
    "model = models.Sequential()\n",
    "model.add(layers.Input(shape=(1,)))\n",
    "model.add(layers.Dense(1, activation=\"sigmoid\"))\n",
    "\n",
    "model.compile(loss = 'mean_squared_error', metrics = ['accuracy'])"
   ]
  },
  {
   "cell_type": "code",
   "execution_count": 6,
   "metadata": {
    "scrolled": true
   },
   "outputs": [
    {
     "name": "stdout",
     "output_type": "stream",
     "text": [
      "Epoch 1/10\n",
      "42/42 [==============================] - 0s 519us/step - loss: 0.8648 - accuracy: 0.0429\n",
      "Epoch 2/10\n",
      "42/42 [==============================] - 0s 415us/step - loss: 0.8585 - accuracy: 0.0571\n",
      "Epoch 3/10\n",
      "42/42 [==============================] - 0s 404us/step - loss: 0.8515 - accuracy: 0.0571\n",
      "Epoch 4/10\n",
      "42/42 [==============================] - 0s 402us/step - loss: 0.8436 - accuracy: 0.0571\n",
      "Epoch 5/10\n",
      "42/42 [==============================] - 0s 399us/step - loss: 0.8346 - accuracy: 0.0571\n",
      "Epoch 6/10\n",
      "42/42 [==============================] - 0s 398us/step - loss: 0.8249 - accuracy: 0.0571\n",
      "Epoch 7/10\n",
      "42/42 [==============================] - 0s 398us/step - loss: 0.8135 - accuracy: 0.0571\n",
      "Epoch 8/10\n",
      "42/42 [==============================] - 0s 396us/step - loss: 0.8011 - accuracy: 0.0571\n",
      "Epoch 9/10\n",
      "42/42 [==============================] - 0s 403us/step - loss: 0.7862 - accuracy: 0.0571\n",
      "Epoch 10/10\n",
      "42/42 [==============================] - 0s 392us/step - loss: 0.7691 - accuracy: 0.0571\n"
     ]
    }
   ],
   "source": [
    "history = model.fit(x_train, y_train, batch_size = 5, epochs = 10, verbose = 1)"
   ]
  },
  {
   "cell_type": "code",
   "execution_count": 7,
   "metadata": {},
   "outputs": [
    {
     "name": "stdout",
     "output_type": "stream",
     "text": [
      "1/1 [==============================] - 0s 841us/step - loss: 0.7615 - accuracy: 0.0000e+00\n"
     ]
    },
    {
     "data": {
      "text/plain": [
       "[0.7615395784378052, 0.0]"
      ]
     },
     "execution_count": 7,
     "metadata": {},
     "output_type": "execute_result"
    }
   ],
   "source": [
    "model.evaluate([-3,5],[1,0])"
   ]
  },
  {
   "cell_type": "code",
   "execution_count": null,
   "metadata": {},
   "outputs": [],
   "source": []
  }
 ],
 "metadata": {
  "kernelspec": {
   "display_name": "Python 3",
   "language": "python",
   "name": "python3"
  },
  "language_info": {
   "codemirror_mode": {
    "name": "ipython",
    "version": 3
   },
   "file_extension": ".py",
   "mimetype": "text/x-python",
   "name": "python",
   "nbconvert_exporter": "python",
   "pygments_lexer": "ipython3",
   "version": "3.8.5"
  }
 },
 "nbformat": 4,
 "nbformat_minor": 4
}
