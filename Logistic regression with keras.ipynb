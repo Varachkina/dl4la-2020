{
 "cells": [
  {
   "cell_type": "markdown",
   "metadata": {},
   "source": [
    "# Logistic regression with keras\n",
    "\n",
    "For warming up, let's look at a very simple example on how to do logistic regression with keras.\n"
   ]
  },
  {
   "cell_type": "code",
   "execution_count": 1,
   "metadata": {},
   "outputs": [],
   "source": [
    "import random\n",
    "import numpy as np\n",
    "from tensorflow.keras import models, layers, optimizers"
   ]
  },
  {
   "cell_type": "markdown",
   "metadata": {},
   "source": [
    "We will generate some random training data. The data set consists of 200 integer numbers, some of them below zero, some above. To use logistic regression, we create a binary classification task by assigning the numbers below zero to one class, the numbers above to the other. This is a very easy task, because we can already formulate a rule for classification."
   ]
  },
  {
   "cell_type": "code",
   "execution_count": 17,
   "metadata": {},
   "outputs": [],
   "source": [
    "x_train = np.array(random.choices(range(-10,0), k=100) + random.choices(range(0,10), k=100))\n",
    "y_train = np.array([1 for i in range(100)] + [0 for i in range(100)])"
   ]
  },
  {
   "cell_type": "markdown",
   "metadata": {},
   "source": [
    "The next step is optional. To enable it, replace 'False' by 'True'. The idea behind this step is to pollute the data set a little bit by adding 10 random numbers with random assignments to the data. After this, it is no longer always true, that numbers below 0 are in one class and above in the other. But the vast majority is still of this form, so the model should pick up the general trend."
   ]
  },
  {
   "cell_type": "code",
   "execution_count": 18,
   "metadata": {},
   "outputs": [],
   "source": [
    "if True:\n",
    "    x_train = np.append(x_train, random.choices(range(-10,10), k=10))\n",
    "    y_train = np.append(y_train, random.choices([0,1], k=10))"
   ]
  },
  {
   "cell_type": "code",
   "execution_count": 19,
   "metadata": {
    "scrolled": true
   },
   "outputs": [
    {
     "data": {
      "text/plain": [
       "array([ -4,  -1,  -7,  -9,  -1,  -7,  -8,  -9,  -4,  -4,  -9, -10,  -2,\n",
       "        -1,  -6,  -8,  -8, -10,  -5,  -4,  -2,  -5,  -6,  -5,  -8,  -8,\n",
       "        -8,  -3,  -5,  -8,  -3,  -6, -10,  -5,  -7,  -6, -10,  -3,  -3,\n",
       "        -8,  -9,  -4,  -6,  -4,  -4,  -7,  -1,  -5,  -1, -10,  -1,  -6,\n",
       "        -6,  -9,  -6,  -9, -10,  -6,  -1,  -3,  -9,  -4, -10, -10,  -6,\n",
       "        -2, -10,  -2,  -4,  -2,  -9,  -9,  -8,  -9,  -8,  -4,  -6,  -2,\n",
       "        -2,  -4,  -6,  -6,  -8,  -3,  -1,  -4,  -8,  -3,  -6,  -3,  -3,\n",
       "        -1,  -9,  -8,  -9,  -6,  -5,  -1,  -8,  -9,   9,   0,   6,   3,\n",
       "         1,   3,   8,   4,   9,   8,   1,   3,   3,   3,   5,   5,   5,\n",
       "         4,   6,   2,   2,   9,   3,   0,   0,   3,   1,   1,   7,   0,\n",
       "         8,   8,   5,   6,   2,   9,   0,   2,   8,   2,   7,   2,   0,\n",
       "         8,   9,   7,   3,   3,   7,   3,   3,   6,   1,   7,   1,   6,\n",
       "         2,   1,   5,   9,   3,   0,   3,   3,   9,   5,   9,   7,   2,\n",
       "         5,   7,   7,   2,   2,   1,   4,   6,   8,   7,   8,   6,   8,\n",
       "         9,   4,   2,   1,   6,   6,   8,   6,   4,   9,   9,   4,   2,\n",
       "         7,   9,   0,   5,   0,   5,  -5,   3,  -5,  -1,   0,  -4,  -1,\n",
       "         6,   2])"
      ]
     },
     "execution_count": 19,
     "metadata": {},
     "output_type": "execute_result"
    }
   ],
   "source": [
    "x_train"
   ]
  },
  {
   "cell_type": "code",
   "execution_count": 20,
   "metadata": {},
   "outputs": [],
   "source": [
    "model = models.Sequential()\n",
    "model.add(layers.Input(shape=(1,)))\n",
    "model.add(layers.Dense(1, activation=\"sigmoid\"))\n",
    "\n",
    "model.compile(loss = 'mean_squared_error', metrics = ['accuracy'])"
   ]
  },
  {
   "cell_type": "code",
   "execution_count": 21,
   "metadata": {
    "scrolled": true
   },
   "outputs": [
    {
     "name": "stdout",
     "output_type": "stream",
     "text": [
      "Epoch 1/10\n",
      "42/42 [==============================] - 0s 485us/step - loss: 0.3771 - accuracy: 0.0714\n",
      "Epoch 2/10\n",
      "42/42 [==============================] - 0s 442us/step - loss: 0.3193 - accuracy: 0.0667\n",
      "Epoch 3/10\n",
      "42/42 [==============================] - 0s 424us/step - loss: 0.2662 - accuracy: 0.1905\n",
      "Epoch 4/10\n",
      "42/42 [==============================] - 0s 423us/step - loss: 0.2198 - accuracy: 0.9714\n",
      "Epoch 5/10\n",
      "42/42 [==============================] - 0s 422us/step - loss: 0.1816 - accuracy: 0.9619\n",
      "Epoch 6/10\n",
      "42/42 [==============================] - 0s 406us/step - loss: 0.1510 - accuracy: 0.9762\n",
      "Epoch 7/10\n",
      "42/42 [==============================] - 0s 409us/step - loss: 0.1266 - accuracy: 0.9762\n",
      "Epoch 8/10\n",
      "42/42 [==============================] - 0s 407us/step - loss: 0.1081 - accuracy: 0.9762\n",
      "Epoch 9/10\n",
      "42/42 [==============================] - 0s 409us/step - loss: 0.0946 - accuracy: 0.9762\n",
      "Epoch 10/10\n",
      "42/42 [==============================] - 0s 399us/step - loss: 0.0843 - accuracy: 0.9762\n"
     ]
    }
   ],
   "source": [
    "history = model.fit(x_train, y_train, batch_size = 5, epochs = 10, verbose = 1)"
   ]
  },
  {
   "cell_type": "code",
   "execution_count": 22,
   "metadata": {},
   "outputs": [
    {
     "name": "stdout",
     "output_type": "stream",
     "text": [
      "1/1 [==============================] - 0s 794us/step - loss: 0.0694 - accuracy: 1.0000\n"
     ]
    },
    {
     "data": {
      "text/plain": [
       "[0.069424107670784, 1.0]"
      ]
     },
     "execution_count": 22,
     "metadata": {},
     "output_type": "execute_result"
    }
   ],
   "source": [
    "model.evaluate([-3,5],[1,0])"
   ]
  },
  {
   "cell_type": "code",
   "execution_count": null,
   "metadata": {},
   "outputs": [],
   "source": []
  }
 ],
 "metadata": {
  "kernelspec": {
   "display_name": "Python 3",
   "language": "python",
   "name": "python3"
  },
  "language_info": {
   "codemirror_mode": {
    "name": "ipython",
    "version": 3
   },
   "file_extension": ".py",
   "mimetype": "text/x-python",
   "name": "python",
   "nbconvert_exporter": "python",
   "pygments_lexer": "ipython3",
   "version": "3.8.5"
  }
 },
 "nbformat": 4,
 "nbformat_minor": 4
}
